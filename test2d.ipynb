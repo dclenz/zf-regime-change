{
 "cells": [
  {
   "cell_type": "code",
   "execution_count": null,
   "id": "7c6b24c2",
   "metadata": {},
   "outputs": [],
   "source": [
    "import numpy as np\n",
    "import os\n",
    "import matplotlib.pyplot as plt\n",
    "\n",
    "from MuyGPyS._test.sampler import UnivariateSampler, print_results\n",
    "from MuyGPyS.gp import MuyGPS\n",
    "from MuyGPyS.gp.deformation import Isotropy, l2\n",
    "from MuyGPyS.gp.hyperparameter import AnalyticScale, Parameter\n",
    "from MuyGPyS.gp.kernels import Matern\n",
    "from MuyGPyS.gp.noise import HomoscedasticNoise\n",
    "from MuyGPyS.neighbors import NN_Wrapper\n",
    "from MuyGPyS.optimize import Bayes_optimize\n",
    "from MuyGPyS.optimize.batch import sample_batch\n",
    "from MuyGPyS.optimize.loss import lool_fn"
   ]
  },
  {
   "cell_type": "code",
   "execution_count": null,
   "id": "92464212",
   "metadata": {},
   "outputs": [],
   "source": [
    "OUTPUT_DIR = \"output_gp\"#\"outputs\"\n",
    "DATASET_NAME = \"Hurricane-ISABEL\" \n",
    "BASE_DIR = \"/lcrc/project/ECP-EZ/public/compression/aggregated-science-data\"\n",
    "hemant_viral_data = \"/lcrc/project/SDR/zf_project\"\n",
    "# NUMBER_OF_LATENT_GRFS = 3 #4\n",
    "NUM_CANDIDATES = 10\n",
    "\n",
    "if DATASET_NAME == \"Hurricane-ISABEL\":\n",
    "  T, M, N = 100, 500, 500\n",
    "  SUBSETS = [\"QCLOUDf48.bin\", \"QGRAUPf48.bin\", \"QICEf48.bin\", \"QSNOWf48.bin\", \"QVAPORf48.bin\", \"CLOUDf48.bin\", \"PRECIPf48.bin\", \"Pf48.bin\", \"TCf48.bin\", \"Uf48.bin\", \"Vf48.bin\", \"Wf48.bin\"]\n",
    "  SUBSET_PATH = os.path.join(BASE_DIR, f\"{DATASET_NAME}/rawdata\")\n",
    "  GRF_PATCH_SIZE = 10\n",
    "  GRF_NPATCHES = (T * (M//GRF_PATCH_SIZE) * (N//GRF_PATCH_SIZE))//1 # CHANGED from 10 to 1\n",
    "  GRF_NPATCHES = int(GRF_NPATCHES)\n",
    "  PRECISION = np.float32"
   ]
  },
  {
   "cell_type": "code",
   "execution_count": null,
   "id": "cc2742a2",
   "metadata": {},
   "outputs": [],
   "source": [
    "\"\"\"\n",
    "  1) If 2d_grf.bin exists, load it; otherwise generate & save a new one.\n",
    "  2) Run diagnostics on the loaded GRF.\n",
    "\"\"\"\n",
    "os.makedirs(OUTPUT_DIR, exist_ok=True)\n",
    "bin_path = os.path.join(OUTPUT_DIR, \"2d_grf.bin\")\n",
    "\n",
    "# --- Generate or load GRF ---\n",
    "if os.path.isfile(bin_path):\n",
    "    # load existing binary\n",
    "    print(f\"Loading existing GRF binary from {bin_path}\")\n",
    "    field = load_field(bin_path, config.M, config.N)\n",
    "else:\n",
    "    # sample a new GRF and save\n",
    "    print(\"Binary not found; generating a new GRF.\")\n",
    "    grf = SpectralGaussianRandomField(\n",
    "        m=config.M,\n",
    "        n=config.N,\n",
    "        lengthscale=config.LENGTHSCALE\n",
    "    )\n",
    "    field = grf.sample()\n",
    "    field.astype('<f4').tofile(bin_path)\n",
    "    print(f\"Saved new GRF binary to {bin_path}\")\n",
    "\n",
    "# plot & save heatmap\n",
    "plot_and_save_heatmap(\n",
    "field=field,\n",
    "save_dir=config.OUTPUT_DIR,\n",
    "base_name=config.OUTPUT_DIR + f\"_heatmap_ls{config.LENGTHSCALE}\",\n",
    "title=f\"2D GRF (length scale={config.LENGTHSCALE})\"\n",
    ")\n"
   ]
  }
 ],
 "metadata": {
  "language_info": {
   "name": "python"
  }
 },
 "nbformat": 4,
 "nbformat_minor": 5
}
